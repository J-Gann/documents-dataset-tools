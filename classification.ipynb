{
 "cells": [
  {
   "cell_type": "code",
   "execution_count": null,
   "metadata": {},
   "outputs": [],
   "source": [
    "%pip install ollama"
   ]
  },
  {
   "cell_type": "code",
   "execution_count": null,
   "metadata": {},
   "outputs": [],
   "source": [
    "# install ollama\n",
    "!sudo apt install lshw --yes\n",
    "!curl -fsSL https://ollama.com/install.sh | sh"
   ]
  },
  {
   "cell_type": "code",
   "execution_count": 41,
   "metadata": {},
   "outputs": [],
   "source": [
    "import os\n",
    "import pymupdf\n",
    "from pydantic import BaseModel\n",
    "from enum import Enum\n",
    "import json\n",
    "import ollama\n",
    "from tqdm.auto import tqdm\n",
    "from docling.document_converter import DocumentConverter, PdfFormatOption\n",
    "import shutil\n",
    "import glob\n",
    "from docling.datamodel.base_models import InputFormat\n",
    "from docling.datamodel.pipeline_options import (\n",
    "    AcceleratorDevice,\n",
    "    AcceleratorOptions,\n",
    "    PdfPipelineOptions\n",
    ")\n",
    "from typing import Deque, List, Optional, Tuple\n"
   ]
  },
  {
   "cell_type": "code",
   "execution_count": null,
   "metadata": {},
   "outputs": [],
   "source": [
    "!ollama pull qwen2.5:14b"
   ]
  },
  {
   "cell_type": "code",
   "execution_count": null,
   "metadata": {},
   "outputs": [],
   "source": [
    "class DocumentInfo(BaseModel):\n",
    "    document_type: str"
   ]
  },
  {
   "cell_type": "code",
   "execution_count": 86,
   "metadata": {},
   "outputs": [],
   "source": [
    "class Classification():\n",
    "\n",
    "    def __init_\n",
    "        \n",
    "def classify_document_ocr(ocr_text):\n",
    "    summary = ollama.chat(\n",
    "        model='qwen2.5:14b',\n",
    "        messages=[{\n",
    "            'role': 'user',\n",
    "            'content': f\"\"\"Briefly summarize the following ocr text. Make clear what the document is about and what type of document it is.\n",
    "                        Only answer with a short summary, nothing else.\n",
    "                        Here is the ocr text:\n",
    "                        ---------------------\n",
    "                        \n",
    "                        {ocr_text}\"\"\"\n",
    "        }]\n",
    "    )\n",
    "\n",
    "    summary = summary.message.content\n",
    "\n",
    "    structured_response = ollama.chat(\n",
    "        model='qwen2.5:14b',\n",
    "        messages=[{\n",
    "            'role': 'user',\n",
    "            'content': f\"\"\"Extract a general document type based on the following ocr text.\n",
    "                        Document types are for example invoices, newsletter or e-mails.\n",
    "                        The document type should be general enough to differentiate between a large number of documents.\n",
    "                        When possible stick to one keyword for the type:\n",
    "                        Also extract keywords that describe the type and general content of the document suitable for organizing a large document collection.\n",
    "                        Here is the ocr text:\n",
    "                        ---------------------\n",
    "                        \n",
    "                        {summary}\"\"\"\n",
    "        }],\n",
    "        format=DocumentInfo.model_json_schema()\n",
    "    )\n",
    "\n",
    "    structured_response = structured_response.message.content\n",
    "\n",
    "    return json.loads(structured_response)[\"document_type\"], json.loads(structured_response)[\"keywords\"]"
   ]
  },
  {
   "cell_type": "code",
   "execution_count": null,
   "metadata": {},
   "outputs": [],
   "source": [
    "cnt_processed = 0\n",
    "ocr_batch_size = 10\n",
    "\n",
    "\n"
   ]
  }
 ],
 "metadata": {
  "kernelspec": {
   "display_name": "Python 3 (ipykernel)",
   "language": "python",
   "name": "python3"
  },
  "language_info": {
   "codemirror_mode": {
    "name": "ipython",
    "version": 3
   },
   "file_extension": ".py",
   "mimetype": "text/x-python",
   "name": "python",
   "nbconvert_exporter": "python",
   "pygments_lexer": "ipython3",
   "version": "3.11.7"
  }
 },
 "nbformat": 4,
 "nbformat_minor": 2
}
