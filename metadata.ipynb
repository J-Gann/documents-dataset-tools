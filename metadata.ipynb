{
 "cells": [
  {
   "cell_type": "code",
   "execution_count": 1,
   "metadata": {},
   "outputs": [
    {
     "name": "stdout",
     "output_type": "stream",
     "text": [
      "Requirement already satisfied: pymupdf in /usr/local/lib/python3.11/dist-packages (1.25.4)\n",
      "\u001b[33mWARNING: Running pip as the 'root' user can result in broken permissions and conflicting behaviour with the system package manager. It is recommended to use a virtual environment instead: https://pip.pypa.io/warnings/venv\u001b[0m\u001b[33m\n",
      "\u001b[0mNote: you may need to restart the kernel to use updated packages.\n",
      "Collecting langdetect\n",
      "  Downloading langdetect-1.0.9.tar.gz (981 kB)\n",
      "\u001b[2K     \u001b[90m━━━━━━━━━━━━━━━━━━━━━━━━━━━━━━━━━━━━━━\u001b[0m \u001b[32m981.5/981.5 kB\u001b[0m \u001b[31m15.7 MB/s\u001b[0m eta \u001b[36m0:00:00\u001b[0ma \u001b[36m0:00:01\u001b[0m\n",
      "\u001b[?25h  Preparing metadata (setup.py) ... \u001b[?25ldone\n",
      "\u001b[?25hRequirement already satisfied: six in /usr/lib/python3/dist-packages (from langdetect) (1.16.0)\n",
      "Building wheels for collected packages: langdetect\n",
      "  Building wheel for langdetect (setup.py) ... \u001b[?25ldone\n",
      "\u001b[?25h  Created wheel for langdetect: filename=langdetect-1.0.9-py3-none-any.whl size=993225 sha256=5562828d5db582afbe799f3315aaa32c5fd7e68835aecedd230ba4897927b3f1\n",
      "  Stored in directory: /root/.cache/pip/wheels/0a/f2/b2/e5ca405801e05eb7c8ed5b3b4bcf1fcabcd6272c167640072e\n",
      "Successfully built langdetect\n",
      "Installing collected packages: langdetect\n",
      "Successfully installed langdetect-1.0.9\n",
      "\u001b[33mWARNING: Running pip as the 'root' user can result in broken permissions and conflicting behaviour with the system package manager. It is recommended to use a virtual environment instead: https://pip.pypa.io/warnings/venv\u001b[0m\u001b[33m\n",
      "\u001b[0mNote: you may need to restart the kernel to use updated packages.\n"
     ]
    }
   ],
   "source": [
    "%pip install pymupdf\n",
    "%pip install langdetect"
   ]
  },
  {
   "cell_type": "code",
   "execution_count": 54,
   "metadata": {},
   "outputs": [],
   "source": [
    "from pathlib import Path\n",
    "import pymupdf\n",
    "import json\n",
    "from langdetect import detect\n",
    "from tqdm.auto import tqdm\n",
    "from typing import List\n",
    "from docling.datamodel.document import DoclingDocument"
   ]
  },
  {
   "cell_type": "code",
   "execution_count": 69,
   "metadata": {},
   "outputs": [],
   "source": [
    "# TODO: \n",
    "# - find number of embedded images\n",
    "# - docling\n",
    "# - pdfplumber\n",
    "# - spacy\n",
    "# - nltk\n",
    "\n",
    "class Metadata():\n",
    "    def __init__(self):\n",
    "        pass\n",
    "\n",
    "    def ocr_text_statistics(self, file_name: str, ocr_folder: Path, file_type: str = \"md\"):\n",
    "        ocr_text = (ocr_folder / f\"{file_name}.{file_type}\").read_text()\n",
    "\n",
    "        statistics = {\n",
    "            \"num_words\": len(ocr_text.split()),\n",
    "            \"num_lines\": len(ocr_text.splitlines()),\n",
    "            \"num_chars\": len(ocr_text),\n",
    "        }\n",
    "\n",
    "        return statistics\n",
    "\n",
    "    def language_metadata(self, file_name: str, ocr_folder: Path, file_type: str = \"md\"):\n",
    "        ocr_text = (ocr_folder / f\"{file_name}.{file_type}\").read_text()\n",
    "\n",
    "        try:\n",
    "            language = detect(ocr_text)\n",
    "        except:\n",
    "            language = \"unknown\"\n",
    "\n",
    "        metadata = {\n",
    "            \"language\": language\n",
    "        }\n",
    "\n",
    "        return metadata\n",
    "\n",
    "    def pdf_statistics(self, file_name: str, pdf_folder: Path):\n",
    "        doc = pymupdf.open(pdf_folder / f\"{file_name}.pdf\")\n",
    "\n",
    "        metadata = {\n",
    "            \"num_pages\": doc.page_count,\n",
    "            \"form_fields\": doc.is_form_pdf,\n",
    "            \"table_of_contents\": doc.get_toc(simple=True),\n",
    "            **doc.metadata\n",
    "        }\n",
    "\n",
    "        return metadata\n",
    "    \n",
    "    def docling_metadata(self, file_name: str, ocr_folder: Path, file_type: str = \"json\"):\n",
    "        docling_path = ocr_folder / f\"{file_name}.{file_type}\"\n",
    "        docling_json = DoclingDocument.load_from_json(docling_path)\n",
    "\n",
    "        metadata = {\n",
    "            \"section_headers\": [t.text for t in docling_json.texts if t.label == \"section_header\"],\n",
    "            \"has_tables\": len(docling_json.tables) > 0\n",
    "        }\n",
    "\n",
    "        return metadata\n",
    "\n",
    "    def process_file(self, file_name: str, ocr_folder: Path, pdf_folder: Path, result_path: Path):\n",
    "        metadata = {}\n",
    "\n",
    "        if result_path.exists():\n",
    "            metadata = json.load(result_path.open())\n",
    "\n",
    "        # only add metadata if it is not already present => enable future addition of new metadata\n",
    "        if \"ocr_text_statistics\" not in metadata:\n",
    "            metadata[\"ocr_text_statistics\"] = self.ocr_text_statistics(file_name, ocr_folder)\n",
    "        if \"pdf_statistics\" not in metadata:\n",
    "            metadata[\"pdf_statistics\"] = self.pdf_statistics(file_name, pdf_folder)\n",
    "        if \"language_metadata\" not in metadata:\n",
    "            metadata[\"language_metadata\"] = self.language_metadata(file_name, ocr_folder)\n",
    "        if \"docling_metadata\" not in metadata:\n",
    "            metadata[\"docling_metadata\"] = self.docling_metadata(file_name, ocr_folder)\n",
    "\n",
    "        return metadata\n",
    "\n",
    "    def process_metadata(self, pdf_folder: Path, ocr_folder: Path, results_folder: Path = Path(\"metadata\"), file_type: str = \"md\"):\n",
    "        ocr_files = list(ocr_folder.glob(f\"*.{file_type}\")) # use ocr files as baseline as some pdfs were not able to be processed\n",
    "        file_stems = [file.stem for file in ocr_files]\n",
    "\n",
    "        results_folder.mkdir(parents=True, exist_ok=True)\n",
    "        \n",
    "        for stem in tqdm(file_stems, desc=\"Processing metadata\"):\n",
    "            result_path = results_folder / f\"{stem}.json\"\n",
    "            metadata = self.process_file(stem, ocr_folder, pdf_folder, result_path)\n",
    "            json.dump(metadata, result_path.open(\"w\"), ensure_ascii=False, indent=4)\n"
   ]
  },
  {
   "cell_type": "code",
   "execution_count": 70,
   "metadata": {},
   "outputs": [],
   "source": [
    "metadata = Metadata()"
   ]
  },
  {
   "cell_type": "code",
   "execution_count": 71,
   "metadata": {},
   "outputs": [
    {
     "data": {
      "application/vnd.jupyter.widget-view+json": {
       "model_id": "849f3c06eeaa400391fdc6dfe2610a30",
       "version_major": 2,
       "version_minor": 0
      },
      "text/plain": [
       "Processing metadata:   0%|          | 0/50718 [00:00<?, ?it/s]"
      ]
     },
     "metadata": {},
     "output_type": "display_data"
    },
    {
     "name": "stdout",
     "output_type": "stream",
     "text": [
      "MuPDF error: syntax error: invalid key in dict\n",
      "\n",
      "MuPDF error: syntax error: invalid key in dict\n",
      "\n",
      "MuPDF error: syntax error: invalid key in dict\n",
      "\n",
      "MuPDF error: syntax error: invalid key in dict\n",
      "\n",
      "MuPDF error: syntax error: invalid key in dict\n",
      "\n",
      "MuPDF error: syntax error: invalid key in dict\n",
      "\n",
      "MuPDF error: syntax error: invalid key in dict\n",
      "\n",
      "MuPDF error: syntax error: invalid key in dict\n",
      "\n",
      "MuPDF error: syntax error: invalid key in dict\n",
      "\n",
      "MuPDF error: format error: object out of range (11 0 R); xref size 11\n",
      "\n",
      "MuPDF error: format error: object out of range (14 0 R); xref size 11\n",
      "\n",
      "MuPDF error: format error: object out of range (12 0 R); xref size 11\n",
      "\n",
      "MuPDF error: format error: object out of range (13 0 R); xref size 11\n",
      "\n",
      "MuPDF error: format error: object out of range (17 0 R); xref size 17\n",
      "\n",
      "MuPDF error: format error: object out of range (17 0 R); xref size 17\n",
      "\n",
      "MuPDF error: format error: object out of range (17 0 R); xref size 17\n",
      "\n",
      "MuPDF error: format error: object out of range (17 0 R); xref size 17\n",
      "\n",
      "MuPDF error: format error: object out of range (17 0 R); xref size 17\n",
      "\n",
      "MuPDF error: format error: object out of range (17 0 R); xref size 17\n",
      "\n",
      "MuPDF error: format error: object out of range (17 0 R); xref size 17\n",
      "\n",
      "MuPDF error: format error: object out of range (17 0 R); xref size 17\n",
      "\n",
      "MuPDF error: format error: object out of range (17 0 R); xref size 17\n",
      "\n"
     ]
    }
   ],
   "source": [
    "metadata.process_metadata(Path(\"pdfs\"), Path(\"docling\"))"
   ]
  }
 ],
 "metadata": {
  "kernelspec": {
   "display_name": "Python 3 (ipykernel)",
   "language": "python",
   "name": "python3"
  },
  "language_info": {
   "codemirror_mode": {
    "name": "ipython",
    "version": 3
   },
   "file_extension": ".py",
   "mimetype": "text/x-python",
   "name": "python",
   "nbconvert_exporter": "python",
   "pygments_lexer": "ipython3",
   "version": "3.11.7"
  }
 },
 "nbformat": 4,
 "nbformat_minor": 2
}
