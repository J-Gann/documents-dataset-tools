{
 "cells": [
  {
   "cell_type": "code",
   "execution_count": null,
   "metadata": {},
   "outputs": [],
   "source": [
    "%pip install pymupdf\n",
    "%pip install langdetect"
   ]
  },
  {
   "cell_type": "code",
   "execution_count": null,
   "metadata": {},
   "outputs": [],
   "source": [
    "from pathlib import Path\n",
    "import pymupdf\n",
    "import json\n",
    "from langdetect import detect\n",
    "from tqdm.auto import tqdm\n",
    "from typing import List"
   ]
  },
  {
   "cell_type": "code",
   "execution_count": 47,
   "metadata": {},
   "outputs": [],
   "source": [
    "# TODO: \n",
    "# - find number of embedded images\n",
    "# - docling\n",
    "# - pdfplumber\n",
    "# - spacy\n",
    "# - nltk\n",
    "\n",
    "class Metadata():\n",
    "    def __init__(self):\n",
    "        pass\n",
    "\n",
    "    def ocr_text_statistics(self, file_name: str, ocr_folder: Path):\n",
    "        ocr_text = (ocr_folder / f\"{file_name}.txt\").read_text()\n",
    "\n",
    "        statistics = {\n",
    "            \"num_words\": len(ocr_text.split()),\n",
    "            \"num_lines\": len(ocr_text.splitlines()),\n",
    "            \"num_chars\": len(ocr_text),\n",
    "        }\n",
    "\n",
    "        return statistics\n",
    "\n",
    "    def language_metadata(self, file_name: str, ocr_folder: Path):\n",
    "        ocr_text = (ocr_folder / f\"{file_name}.txt\").read_text()\n",
    "\n",
    "        try:\n",
    "            language = detect(ocr_text)\n",
    "        except:\n",
    "            language = \"unknown\"\n",
    "\n",
    "        metadata = {\n",
    "            \"language\": language\n",
    "        }\n",
    "\n",
    "        return metadata\n",
    "\n",
    "    def pdf_statistics(self, file_name: str, pdf_folder: Path):\n",
    "        doc = pymupdf.open(pdf_folder / f\"{file_name}.pdf\")\n",
    "\n",
    "        metadata = {\n",
    "            \"num_pages\": doc.page_count,\n",
    "            \"form_fields\": doc.is_form_pdf,\n",
    "            \"table_of_contents\": doc.get_toc(simple=True),\n",
    "            **doc.metadata\n",
    "        }\n",
    "\n",
    "        return metadata\n",
    "\n",
    "    def process_file(self, file_name: str, ocr_folder: Path, pdf_folder: Path, result_path: Path):\n",
    "        metadata = {}\n",
    "\n",
    "        if result_path.exists():\n",
    "            metadata = json.load(result_path.open())\n",
    "\n",
    "        # only add metadata if it is not already present => enable future addition of new metadata\n",
    "        if \"ocr_text_statistics\" not in metadata:\n",
    "            metadata[\"ocr_text_statistics\"] = self.ocr_text_statistics(file_name, ocr_folder)\n",
    "        if \"pdf_statistics\" not in metadata:\n",
    "            metadata[\"pdf_statistics\"] = self.pdf_statistics(file_name, pdf_folder)\n",
    "        if \"language_metadata\" not in metadata:\n",
    "            metadata[\"language_metadata\"] = self.language_metadata(file_name, ocr_folder)\n",
    "\n",
    "        return metadata\n",
    "\n",
    "    def process_metadata(self, pdf_folder: Path, ocr_folder: Path, results_folder: Path = Path(\"metadata\")):\n",
    "        ocr_files = list(ocr_folder.glob(\"*.txt\")) # use ocr files as baseline as some pdfs were not able to be processed\n",
    "        file_stems = [file.stem for file in ocr_files]\n",
    "\n",
    "        results_folder.mkdir(parents=True, exist_ok=True)\n",
    "        \n",
    "        for stem in tqdm(file_stems, desc=\"Processing metadata\"):\n",
    "            result_path = results_folder / f\"{stem}.json\"\n",
    "            metadata = self.process_file(stem, ocr_folder, pdf_folder, result_path)\n",
    "            json.dump(metadata, result_path.open(\"w\"), ensure_ascii=False, indent=4)\n"
   ]
  },
  {
   "cell_type": "code",
   "execution_count": 48,
   "metadata": {},
   "outputs": [],
   "source": [
    "metadata = Metadata()"
   ]
  },
  {
   "cell_type": "code",
   "execution_count": null,
   "metadata": {},
   "outputs": [],
   "source": [
    "metadata.process_metadata(Path(\"pdfs\"), Path(\"tesseract\"))"
   ]
  }
 ],
 "metadata": {
  "kernelspec": {
   "display_name": "Python 3 (ipykernel)",
   "language": "python",
   "name": "python3"
  }
 },
 "nbformat": 4,
 "nbformat_minor": 2
}
