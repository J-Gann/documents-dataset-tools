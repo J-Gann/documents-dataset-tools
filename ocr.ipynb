{
 "cells": [
  {
   "cell_type": "code",
   "execution_count": null,
   "metadata": {
    "vscode": {
     "languageId": "python"
    }
   },
   "outputs": [],
   "source": [
    "!apt update"
   ]
  },
  {
   "cell_type": "code",
   "execution_count": 3,
   "metadata": {
    "vscode": {
     "languageId": "python"
    }
   },
   "outputs": [
    {
     "name": "stdout",
     "output_type": "stream",
     "text": [
      "Reading package lists... Done\n",
      "Building dependency tree... Done\n",
      "Reading state information... Done\n",
      "tesseract-ocr is already the newest version (4.1.1-2.1build1).\n",
      "0 upgraded, 0 newly installed, 0 to remove and 100 not upgraded.\n"
     ]
    }
   ],
   "source": [
    "!apt-get install tesseract-ocr --yes"
   ]
  },
  {
   "cell_type": "code",
   "execution_count": 10,
   "metadata": {
    "vscode": {
     "languageId": "python"
    }
   },
   "outputs": [
    {
     "name": "stdout",
     "output_type": "stream",
     "text": [
      "Reading package lists... Done\n",
      "Building dependency tree... Done\n",
      "Reading state information... Done\n",
      "The following additional packages will be installed:\n",
      "  libpoppler118 poppler-data\n",
      "Suggested packages:\n",
      "  ghostscript fonts-japanese-mincho | fonts-ipafont-mincho\n",
      "  fonts-japanese-gothic | fonts-ipafont-gothic fonts-arphic-ukai\n",
      "  fonts-arphic-uming fonts-nanum\n",
      "The following NEW packages will be installed:\n",
      "  libpoppler118 poppler-data poppler-utils\n",
      "0 upgraded, 3 newly installed, 0 to remove and 233 not upgraded.\n",
      "Need to get 3428 kB of archives.\n",
      "After this operation, 17.7 MB of additional disk space will be used.\n",
      "Get:1 http://archive.ubuntu.com/ubuntu jammy/main amd64 poppler-data all 0.4.11-1 [2171 kB]\n",
      "Get:2 http://archive.ubuntu.com/ubuntu jammy-updates/main amd64 libpoppler118 amd64 22.02.0-2ubuntu0.6 [1071 kB]\n",
      "Get:3 http://archive.ubuntu.com/ubuntu jammy-updates/main amd64 poppler-utils amd64 22.02.0-2ubuntu0.6 [186 kB]\n",
      "Fetched 3428 kB in 0s (35.2 MB/s)       \n",
      "Selecting previously unselected package poppler-data.\n",
      "(Reading database ... 90052 files and directories currently installed.)\n",
      "Preparing to unpack .../poppler-data_0.4.11-1_all.deb ...\n",
      "Unpacking poppler-data (0.4.11-1) ...\n",
      "Selecting previously unselected package libpoppler118:amd64.\n",
      "Preparing to unpack .../libpoppler118_22.02.0-2ubuntu0.6_amd64.deb ...\n",
      "Unpacking libpoppler118:amd64 (22.02.0-2ubuntu0.6) ...\n",
      "Selecting previously unselected package poppler-utils.\n",
      "Preparing to unpack .../poppler-utils_22.02.0-2ubuntu0.6_amd64.deb ...\n",
      "Unpacking poppler-utils (22.02.0-2ubuntu0.6) ...\n",
      "Setting up poppler-data (0.4.11-1) ...\n",
      "Setting up libpoppler118:amd64 (22.02.0-2ubuntu0.6) ...\n",
      "Setting up poppler-utils (22.02.0-2ubuntu0.6) ...\n",
      "Processing triggers for libc-bin (2.35-0ubuntu3.5) ...\n",
      "Processing triggers for man-db (2.10.2-1) ...\n",
      "Processing triggers for fontconfig (2.13.1-4.2ubuntu5) ...\n"
     ]
    }
   ],
   "source": [
    "!apt-get install poppler-utils --yes"
   ]
  },
  {
   "cell_type": "code",
   "execution_count": null,
   "metadata": {
    "vscode": {
     "languageId": "python"
    }
   },
   "outputs": [],
   "source": [
    "%pip uninstall lxml --yes # needs to be reinstalled by docling"
   ]
  },
  {
   "cell_type": "code",
   "execution_count": null,
   "metadata": {
    "vscode": {
     "languageId": "python"
    }
   },
   "outputs": [],
   "source": [
    "%pip install transformers"
   ]
  },
  {
   "cell_type": "code",
   "execution_count": null,
   "metadata": {
    "vscode": {
     "languageId": "python"
    }
   },
   "outputs": [],
   "source": [
    "%pip install docling"
   ]
  },
  {
   "cell_type": "code",
   "execution_count": 1,
   "metadata": {
    "vscode": {
     "languageId": "python"
    }
   },
   "outputs": [
    {
     "name": "stdout",
     "output_type": "stream",
     "text": [
      "Requirement already satisfied: pymupdf in /usr/local/lib/python3.11/dist-packages (1.25.3)\n",
      "\u001b[33mWARNING: Running pip as the 'root' user can result in broken permissions and conflicting behaviour with the system package manager. It is recommended to use a virtual environment instead: https://pip.pypa.io/warnings/venv\u001b[0m\u001b[33m\n",
      "\u001b[0mNote: you may need to restart the kernel to use updated packages.\n",
      "Requirement already satisfied: pytesseract in /usr/local/lib/python3.11/dist-packages (0.3.13)\n",
      "Requirement already satisfied: packaging>=21.3 in /usr/local/lib/python3.11/dist-packages (from pytesseract) (23.2)\n",
      "Requirement already satisfied: Pillow>=8.0.0 in /usr/local/lib/python3.11/dist-packages (from pytesseract) (11.1.0)\n",
      "\u001b[33mWARNING: Running pip as the 'root' user can result in broken permissions and conflicting behaviour with the system package manager. It is recommended to use a virtual environment instead: https://pip.pypa.io/warnings/venv\u001b[0m\u001b[33m\n",
      "\u001b[0mNote: you may need to restart the kernel to use updated packages.\n",
      "Collecting pdf2image\n",
      "  Downloading pdf2image-1.17.0-py3-none-any.whl.metadata (6.2 kB)\n",
      "Requirement already satisfied: pillow in /usr/local/lib/python3.11/dist-packages (from pdf2image) (11.1.0)\n",
      "Downloading pdf2image-1.17.0-py3-none-any.whl (11 kB)\n",
      "Installing collected packages: pdf2image\n",
      "Successfully installed pdf2image-1.17.0\n",
      "\u001b[33mWARNING: Running pip as the 'root' user can result in broken permissions and conflicting behaviour with the system package manager. It is recommended to use a virtual environment instead: https://pip.pypa.io/warnings/venv\u001b[0m\u001b[33m\n",
      "\u001b[0mNote: you may need to restart the kernel to use updated packages.\n"
     ]
    }
   ],
   "source": [
    "%pip install pymupdf\n",
    "%pip install pytesseract\n",
    "%pip install pdf2image"
   ]
  },
  {
   "cell_type": "code",
   "execution_count": 1,
   "metadata": {
    "vscode": {
     "languageId": "python"
    }
   },
   "outputs": [],
   "source": [
    "from docling.datamodel.base_models import InputFormat\n",
    "from docling.datamodel.pipeline_options import (\n",
    "    AcceleratorDevice,\n",
    "    AcceleratorOptions,\n",
    "    PdfPipelineOptions,\n",
    "    EasyOcrOptions,\n",
    ")\n",
    "from docling.document_converter import DocumentConverter, PdfFormatOption\n",
    "from docling.datamodel.document import ConversionResult\n",
    "from docling.datamodel.base_models import ConversionStatus, InputFormat\n",
    "from docling_core.types.doc import ImageRefMode\n",
    "\n",
    "\n",
    "import pytesseract\n",
    "import pymupdf\n",
    "from pathlib import Path\n",
    "import json\n",
    "from tqdm.auto import tqdm\n",
    "from pdf2image import convert_from_path"
   ]
  },
  {
   "cell_type": "code",
   "execution_count": 2,
   "metadata": {
    "vscode": {
     "languageId": "python"
    }
   },
   "outputs": [],
   "source": [
    "class PDFProcessor:\n",
    "    def __init__(self):\n",
    "        pipeline_options = PdfPipelineOptions()\n",
    "        pipeline_options.accelerator_options = AcceleratorOptions(\n",
    "            num_threads=8, device=AcceleratorDevice.CUDA\n",
    "        )\n",
    "\n",
    "        pipeline_options.document_timeout = 20.0\n",
    "\n",
    "        ocr_options = EasyOcrOptions()\n",
    "\n",
    "        pipeline_options.ocr_options = ocr_options\n",
    "\n",
    "        self.doc_converter = DocumentConverter(\n",
    "            format_options={\n",
    "                InputFormat.PDF: PdfFormatOption(pipeline_options=pipeline_options)\n",
    "            }\n",
    "        )\n",
    "        \n",
    "        self.rejected_files = self._load_rejected_files()\n",
    "\n",
    "    def _load_rejected_files(self, file_path: Path = Path(\"rejected_ocr_files.json\")):\n",
    "        if file_path.exists():\n",
    "            rejected_files = json.load(file_path.open(\"r\"))\n",
    "            return [Path(x) for x in rejected_files]\n",
    "        else:\n",
    "            return []\n",
    "\n",
    "    def _reject_file(self, rejected_file: Path, storage_path: Path = Path(\"rejected_ocr_files.json\")):\n",
    "        self.rejected_files.append(rejected_file)\n",
    "        serialized = [str(x.name) for x in self.rejected_files]\n",
    "        json.dump(serialized, storage_path.open(\"w\"))\n",
    "\n",
    "    def extract_text_docling(self, pdf_folder_path: Path, extraction_folder_path: Path = Path(\"docling\")):\n",
    "        extraction_folder_path.mkdir(parents=True, exist_ok=True)\n",
    "\n",
    "        pdf_files = list(pdf_folder_path.glob(\"*.pdf\"))\n",
    "\n",
    "        extraction_stems = [x.stem for x in extraction_folder_path.glob(\"*.md\")] # previously processed files\n",
    "        rejected_stems = [x.stem for x in self.rejected_files] # previously rejected files\n",
    "\n",
    "        pdf_files = list(filter(lambda x: x.stem not in extraction_stems and x.stem not in rejected_stems, pdf_files))\n",
    "\n",
    "        res_conv = self.doc_converter.convert_all(pdf_files, raises_on_error=False)\n",
    "\n",
    "        success_count = 0\n",
    "        failed_count = 0\n",
    "\n",
    "        pbar = tqdm(res_conv, desc=\"Processing PDFs\", total=len(pdf_files))\n",
    "        for res in pbar:\n",
    "            if res.status == ConversionStatus.SUCCESS:\n",
    "                res.document.save_as_markdown(extraction_folder_path / f\"{res.input.file.stem}.md\", image_mode=ImageRefMode.PLACEHOLDER, strict_text=True)\n",
    "                res.document.save_as_json(extraction_folder_path / f\"{res.input.file.stem}.json\", image_mode=ImageRefMode.PLACEHOLDER)\n",
    "                success_count += 1\n",
    "            else:\n",
    "                self._reject_file(res.input.file)\n",
    "                failed_count += 1\n",
    "\n",
    "            pbar.set_postfix_str(f\"Success: {success_count} | Error: {failed_count}\")\n",
    "\n",
    "    def extract_text_tesseract(self, pdf_folder_path: Path, extraction_folder_path: Path = Path(\"tesseract\")):\n",
    "        extraction_folder_path.mkdir(parents=True, exist_ok=True)\n",
    "\n",
    "        pdf_files = list(pdf_folder_path.glob(\"*.pdf\"))\n",
    "\n",
    "        extraction_stems = [x.stem for x in extraction_folder_path.glob(\"*.txt\")] # previously processed files\n",
    "        print(\"Number of previously processed files: \", len(extraction_stems))\n",
    "        rejected_stems = [x.stem for x in self.rejected_files] # previously rejected files\n",
    "        print(\"Number of previously rejected files: \", len(rejected_stems))\n",
    "\n",
    "        pdf_files = list(filter(lambda x: x.stem not in extraction_stems and x.stem not in rejected_stems, pdf_files))\n",
    "\n",
    "        success_cnt = 0\n",
    "        error_cnt = 0\n",
    "\n",
    "        pbar = tqdm(pdf_files, desc=\"Processing PDFs\", total=len(pdf_files))\n",
    "\n",
    "        for pdf_file in pbar:\n",
    "\n",
    "            pbar.set_postfix_str(f\"[Success: {success_cnt} | Error: {error_cnt}] » Processing: {pdf_file.stem}\")\n",
    "\n",
    "            text_all_pages = \"\"\n",
    "\n",
    "            # pymupdf gets stuck on some files\n",
    "            # doc = pymupdf.open(pdf_file)\n",
    "            # \n",
    "            # for page in doc:\n",
    "            #     pixmap = page.get_pixmap()\n",
    "            #     text_page = pytesseract.image_to_string(Image.open(io.BytesIO(pixmap.tobytes())), timeout=10)\n",
    "            #     text_all_pages += text_page\n",
    "\n",
    "            try:\n",
    "                images = convert_from_path(pdf_file, timeout=10)\n",
    " \n",
    "                for image in images:\n",
    "                    text_page = pytesseract.image_to_string(image, timeout=10)\n",
    "                    text_all_pages += text_page\n",
    "   \n",
    "            except Exception as e:\n",
    "                self._reject_file(pdf_file)\n",
    "                error_cnt += 1\n",
    "                print(f\"Error: {e}\")\n",
    "                continue\n",
    "            \n",
    "            with open(extraction_folder_path / f\"{pdf_file.stem}.txt\", \"w\") as f:\n",
    "                f.write(text_all_pages)\n",
    "\n",
    "            success_cnt += 1"
   ]
  },
  {
   "cell_type": "code",
   "execution_count": 3,
   "metadata": {
    "vscode": {
     "languageId": "python"
    }
   },
   "outputs": [
    {
     "name": "stdout",
     "output_type": "stream",
     "text": [
      "Number of previously processed files:  1102\n",
      "Number of previously rejected files:  17\n"
     ]
    },
    {
     "data": {
      "application/vnd.jupyter.widget-view+json": {
       "model_id": "5a5864bb25224400bfff66c776bab18d",
       "version_major": 2,
       "version_minor": 0
      },
      "text/plain": [
       "Processing PDFs:   0%|          | 0/51829 [00:00<?, ?it/s]"
      ]
     },
     "metadata": {},
     "output_type": "display_data"
    },
    {
     "name": "stdout",
     "output_type": "stream",
     "text": [
      "Error: Tesseract process timeout\n"
     ]
    }
   ],
   "source": [
    "pdf_processor = PDFProcessor()\n",
    "pdf_processor.extract_text_tesseract(Path(\"pdfs\"))"
   ]
  }
 ],
 "metadata": {
  "kernelspec": {
   "display_name": "Python 3 (ipykernel)",
   "language": "python",
   "name": "python3"
  },
  "language_info": {
   "name": "",
   "version": ""
  }
 },
 "nbformat": 4,
 "nbformat_minor": 2
}
